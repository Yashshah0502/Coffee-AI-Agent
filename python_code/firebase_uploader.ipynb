{
 "cells": [
  {
   "cell_type": "code",
   "execution_count": 1,
   "id": "d49658df",
   "metadata": {},
   "outputs": [
    {
     "data": {
      "text/plain": [
       "True"
      ]
     },
     "execution_count": 1,
     "metadata": {},
     "output_type": "execute_result"
    }
   ],
   "source": [
    "import firebase_admin \n",
    "from firebase_admin import credentials, storage\n",
    "from firebase_admin import db\n",
    "import os\n",
    "import pandas as pd\n",
    "import dotenv\n",
    "\n",
    "\n",
    "dotenv.load_dotenv()"
   ]
  },
  {
   "cell_type": "code",
   "execution_count": 2,
   "id": "33ce519e",
   "metadata": {},
   "outputs": [],
   "source": [
    "service_account_info = {\n",
    "    \"type\": os.getenv(\"FIREBASE_TYPE\"),\n",
    "    \"project_id\": os.getenv(\"FIREBASE_PROJECT_ID\"),\n",
    "    \"private_key_id\": os.getenv(\"FIREBASE_PRIVATE_KEY_ID\"),\n",
    "    \"private_key\": os.getenv(\"FIREBASE_PRIVATE_KEY\").replace('\\\\n', '\\n'),\n",
    "    \"client_email\": os.getenv(\"FIREBASE_CLIENT_EMAIL\"),\n",
    "    \"client_id\": os.getenv(\"FIREBASE_CLIENT_ID\"),\n",
    "    \"auth_uri\": os.getenv(\"FIREBASE_AUTH_URI\"),\n",
    "    \"token_uri\": os.getenv(\"FIREBASE_TOKEN_URI\"),\n",
    "    \"auth_provider_x509_cert_url\": os.getenv(\"FIREBASE_AUTH_PROVIDER_X509_CERT_URL\"),\n",
    "    \"client_x509_cert_url\": os.getenv(\"FIREBASE_CLIENT_X509_CERT_URL\"),\n",
    "    \"universe_domain\": os.getenv(\"FIREBASE_UNIVERSE_DOMAIN\")\n",
    "}\n"
   ]
  },
  {
   "cell_type": "code",
   "execution_count": 3,
   "id": "fad901e4",
   "metadata": {},
   "outputs": [],
   "source": [
    "import firebase_admin\n",
    "from firebase_admin import credentials, db, storage\n",
    "\n",
    "if not firebase_admin._apps:\n",
    "    cred = credentials.Certificate(service_account_info)\n",
    "    firebase_admin.initialize_app(cred, {\n",
    "        'databaseURL': \"https://fullstack-ai-coffee-default-rtdb.firebaseio.com\",\n",
    "        'storageBucket': os.getenv(\"FIREBASE_STORAGE_BUCKET\")\n",
    "    })\n"
   ]
  },
  {
   "cell_type": "code",
   "execution_count": 4,
   "id": "ad66fede",
   "metadata": {},
   "outputs": [],
   "source": [
    "bucket = storage.bucket(os.getenv(\"FIREBASE_STORAGE_BUCKET\"))"
   ]
  },
  {
   "cell_type": "code",
   "execution_count": null,
   "id": "cc12ba0b",
   "metadata": {},
   "outputs": [],
   "source": [
    "image_folder_path = './Products/Images'"
   ]
  },
  {
   "cell_type": "code",
   "execution_count": 34,
   "id": "1ae34145",
   "metadata": {},
   "outputs": [
    {
     "name": "stdout",
     "output_type": "stream",
     "text": [
      "firebase_admin._apps = {'[DEFAULT]': <firebase_admin.App object at 0x122e19210>}\n"
     ]
    }
   ],
   "source": [
    "print(\"firebase_admin._apps =\", firebase_admin._apps)"
   ]
  },
  {
   "cell_type": "code",
   "execution_count": null,
   "id": "ce414156",
   "metadata": {},
   "outputs": [],
   "source": [
    "products_collection = db.reference('products')"
   ]
  },
  {
   "cell_type": "code",
   "execution_count": 7,
   "id": "af17eebc",
   "metadata": {},
   "outputs": [
    {
     "name": "stdout",
     "output_type": "stream",
     "text": [
      "Products collection reference: <firebase_admin.db.Reference object at 0x10c241090>\n"
     ]
    }
   ],
   "source": [
    "print(\"Products collection reference:\", products_collection)"
   ]
  },
  {
   "cell_type": "code",
   "execution_count": 8,
   "id": "ba2d202e",
   "metadata": {},
   "outputs": [
    {
     "data": {
      "text/html": [
       "<div>\n",
       "<style scoped>\n",
       "    .dataframe tbody tr th:only-of-type {\n",
       "        vertical-align: middle;\n",
       "    }\n",
       "\n",
       "    .dataframe tbody tr th {\n",
       "        vertical-align: top;\n",
       "    }\n",
       "\n",
       "    .dataframe thead th {\n",
       "        text-align: right;\n",
       "    }\n",
       "</style>\n",
       "<table border=\"1\" class=\"dataframe\">\n",
       "  <thead>\n",
       "    <tr style=\"text-align: right;\">\n",
       "      <th></th>\n",
       "      <th>name</th>\n",
       "      <th>category</th>\n",
       "      <th>description</th>\n",
       "      <th>ingredients</th>\n",
       "      <th>price</th>\n",
       "      <th>rating</th>\n",
       "      <th>image_path</th>\n",
       "    </tr>\n",
       "  </thead>\n",
       "  <tbody>\n",
       "    <tr>\n",
       "      <th>0</th>\n",
       "      <td>Cappuccino</td>\n",
       "      <td>Coffee</td>\n",
       "      <td>A rich and creamy cappuccino made with freshly...</td>\n",
       "      <td>[Espresso, Steamed Milk, Milk Foam]</td>\n",
       "      <td>4.50</td>\n",
       "      <td>4.7</td>\n",
       "      <td>cappuccino.jpg</td>\n",
       "    </tr>\n",
       "    <tr>\n",
       "      <th>1</th>\n",
       "      <td>Jumbo Savory Scone</td>\n",
       "      <td>Bakery</td>\n",
       "      <td>Deliciously flaky and buttery, this jumbo savo...</td>\n",
       "      <td>[Flour, Butter, Cheese, Herbs, Baking Powder, ...</td>\n",
       "      <td>3.25</td>\n",
       "      <td>4.3</td>\n",
       "      <td>SavoryScone.webp</td>\n",
       "    </tr>\n",
       "  </tbody>\n",
       "</table>\n",
       "</div>"
      ],
      "text/plain": [
       "                 name category  \\\n",
       "0          Cappuccino   Coffee   \n",
       "1  Jumbo Savory Scone   Bakery   \n",
       "\n",
       "                                         description  \\\n",
       "0  A rich and creamy cappuccino made with freshly...   \n",
       "1  Deliciously flaky and buttery, this jumbo savo...   \n",
       "\n",
       "                                         ingredients  price  rating  \\\n",
       "0                [Espresso, Steamed Milk, Milk Foam]   4.50     4.7   \n",
       "1  [Flour, Butter, Cheese, Herbs, Baking Powder, ...   3.25     4.3   \n",
       "\n",
       "         image_path  \n",
       "0    cappuccino.jpg  \n",
       "1  SavoryScone.webp  "
      ]
     },
     "execution_count": 8,
     "metadata": {},
     "output_type": "execute_result"
    }
   ],
   "source": [
    "df = pd.read_json('products/products.jsonl',lines=True)\n",
    "df.head(2)"
   ]
  },
  {
   "cell_type": "code",
   "execution_count": 11,
   "id": "0a64b8f3",
   "metadata": {},
   "outputs": [],
   "source": [
    "def upload_to_firebase(bucket, image_path):\n",
    "    image_name = image_path.split('/')[-1]\n",
    "    blob = bucket.blob(f'products/images/{image_name}')\n",
    "    blob.upload_from_filename(image_path)\n",
    "    blob.make_public()\n",
    "    return blob.public_url"
   ]
  },
  {
   "cell_type": "code",
   "execution_count": null,
   "id": "a07a5f5d",
   "metadata": {},
   "outputs": [
    {
     "data": {
      "text/html": [
       "<div>\n",
       "<style scoped>\n",
       "    .dataframe tbody tr th:only-of-type {\n",
       "        vertical-align: middle;\n",
       "    }\n",
       "\n",
       "    .dataframe tbody tr th {\n",
       "        vertical-align: top;\n",
       "    }\n",
       "\n",
       "    .dataframe thead th {\n",
       "        text-align: right;\n",
       "    }\n",
       "</style>\n",
       "<table border=\"1\" class=\"dataframe\">\n",
       "  <thead>\n",
       "    <tr style=\"text-align: right;\">\n",
       "      <th></th>\n",
       "      <th>name</th>\n",
       "      <th>category</th>\n",
       "      <th>description</th>\n",
       "      <th>ingredients</th>\n",
       "      <th>price</th>\n",
       "      <th>rating</th>\n",
       "      <th>image_path</th>\n",
       "    </tr>\n",
       "  </thead>\n",
       "  <tbody>\n",
       "    <tr>\n",
       "      <th>0</th>\n",
       "      <td>Cappuccino</td>\n",
       "      <td>Coffee</td>\n",
       "      <td>A rich and creamy cappuccino made with freshly...</td>\n",
       "      <td>[Espresso, Steamed Milk, Milk Foam]</td>\n",
       "      <td>4.50</td>\n",
       "      <td>4.7</td>\n",
       "      <td>cappuccino.jpg</td>\n",
       "    </tr>\n",
       "    <tr>\n",
       "      <th>1</th>\n",
       "      <td>Jumbo Savory Scone</td>\n",
       "      <td>Bakery</td>\n",
       "      <td>Deliciously flaky and buttery, this jumbo savo...</td>\n",
       "      <td>[Flour, Butter, Cheese, Herbs, Baking Powder, ...</td>\n",
       "      <td>3.25</td>\n",
       "      <td>4.3</td>\n",
       "      <td>SavoryScone.webp</td>\n",
       "    </tr>\n",
       "  </tbody>\n",
       "</table>\n",
       "</div>"
      ],
      "text/plain": [
       "                 name category  \\\n",
       "0          Cappuccino   Coffee   \n",
       "1  Jumbo Savory Scone   Bakery   \n",
       "\n",
       "                                         description  \\\n",
       "0  A rich and creamy cappuccino made with freshly...   \n",
       "1  Deliciously flaky and buttery, this jumbo savo...   \n",
       "\n",
       "                                         ingredients  price  rating  \\\n",
       "0                [Espresso, Steamed Milk, Milk Foam]   4.50     4.7   \n",
       "1  [Flour, Butter, Cheese, Herbs, Baking Powder, ...   3.25     4.3   \n",
       "\n",
       "         image_path  \n",
       "0    cappuccino.jpg  \n",
       "1  SavoryScone.webp  "
      ]
     },
     "execution_count": 10,
     "metadata": {},
     "output_type": "execute_result"
    }
   ],
   "source": [
    "df.head(2)"
   ]
  },
  {
   "cell_type": "code",
   "execution_count": null,
   "id": "02219fc4",
   "metadata": {},
   "outputs": [],
   "source": [
    "\n"
   ]
  },
  {
   "cell_type": "markdown",
   "id": "3b35c8d4",
   "metadata": {},
   "source": [
    "#### We want to loop through each product in the dataset, uploaded its image to Firebase Storage, and got a public image URL. Then we prepared the product data by removing the local image path and adding the new image URL. Finally, we pushed this cleaned product data into the Firebase Realtime Database under the products node."
   ]
  },
  {
   "cell_type": "code",
   "execution_count": 14,
   "id": "a536bcea",
   "metadata": {},
   "outputs": [
    {
     "name": "stdout",
     "output_type": "stream",
     "text": [
      "0 Cappuccino\n",
      "1 Jumbo Savory Scone\n",
      "2 Latte\n",
      "3 Chocolate Chip Biscotti\n",
      "4 Espresso shot\n",
      "5 Hazelnut Biscotti\n",
      "6 Chocolate Croissant\n",
      "7 Dark chocolate\n",
      "8 Cranberry Scone\n",
      "9 Croissant\n",
      "10 Almond Croissant\n",
      "11 Ginger Biscotti\n",
      "12 Oatmeal Scone\n",
      "13 Ginger Scone\n",
      "14 Chocolate syrup\n",
      "15 Hazelnut syrup\n",
      "16 Carmel syrup\n",
      "17 Sugar Free Vanilla syrup\n"
     ]
    }
   ],
   "source": [
    "for index, row in df.iterrows():\n",
    "    print(index, row['name'])\n",
    "\n",
    "    image_path = os.path.join(image_folder_path, row['image_path'])\n",
    "    \n",
    "    image_url = upload_to_firebase(bucket, image_path)\n",
    "    product_data = row.to_dict()\n",
    "    product_data.pop('image_path')\n",
    "    product_data['image_url'] = image_url\n",
    "\n",
    "    products_collection.push().set(product_data)\n"
   ]
  },
  {
   "cell_type": "code",
   "execution_count": null,
   "id": "6e651c09",
   "metadata": {},
   "outputs": [],
   "source": []
  }
 ],
 "metadata": {
  "kernelspec": {
   "display_name": "venv",
   "language": "python",
   "name": "python3"
  },
  "language_info": {
   "codemirror_mode": {
    "name": "ipython",
    "version": 3
   },
   "file_extension": ".py",
   "mimetype": "text/x-python",
   "name": "python",
   "nbconvert_exporter": "python",
   "pygments_lexer": "ipython3",
   "version": "3.11.4"
  }
 },
 "nbformat": 4,
 "nbformat_minor": 5
}
