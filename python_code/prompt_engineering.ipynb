{
 "cells": [
  {
   "cell_type": "code",
   "execution_count": 31,
   "id": "c725ce3e",
   "metadata": {},
   "outputs": [
    {
     "data": {
      "text/plain": [
       "True"
      ]
     },
     "execution_count": 31,
     "metadata": {},
     "output_type": "execute_result"
    }
   ],
   "source": [
    "from openai import OpenAI\n",
    "import os\n",
    "import json\n",
    "from sklearn.metrics.pairwise import cosine_similarity\n",
    "from dotenv import load_dotenv\n",
    "load_dotenv()"
   ]
  },
  {
   "cell_type": "code",
   "execution_count": 20,
   "id": "ef4656b6",
   "metadata": {},
   "outputs": [],
   "source": [
    "def get_chatbot_respnse(client, model_name, messages,temprature =0 ):\n",
    "    input_messages = []\n",
    "    for message in messages:\n",
    "        input_messages.append({\"role\": message['role'],\"content\": message['content']})\n",
    "    \n",
    "    response = client.chat.completions.create(\n",
    "        model= model_name,\n",
    "        messages=input_messages,\n",
    "        temperature= temprature,\n",
    "        top_p= 0.8,\n",
    "        max_tokens=2000\n",
    "    ).choices[0].message.content\n",
    "\n",
    "    return response"
   ]
  },
  {
   "cell_type": "code",
   "execution_count": 21,
   "id": "49e1e5f2",
   "metadata": {},
   "outputs": [],
   "source": [
    "client = OpenAI(\n",
    "    api_key=os.getenv('RUNPOD_TOKEN'),\n",
    "    base_url=os.getenv('RUNPOD_CHATBOT_URL')\n",
    ")\n",
    "model_name = os.getenv('MODEL_NAME')"
   ]
  },
  {
   "cell_type": "code",
   "execution_count": 8,
   "id": "8cff61d1",
   "metadata": {},
   "outputs": [],
   "source": [
    "messages = [{\n",
    "        \"role\": 'system',\n",
    "        \"content\": \"What is capital of United States\"\n",
    "    }]\n",
    "response = get_chatbot_respnse(client, model_name, messages)"
   ]
  },
  {
   "cell_type": "code",
   "execution_count": 9,
   "id": "69a5fc59",
   "metadata": {},
   "outputs": [
    {
     "data": {
      "text/plain": [
       "'The capital of the United States is Washington, D.C. (short for District of Columbia).'"
      ]
     },
     "execution_count": 9,
     "metadata": {},
     "output_type": "execute_result"
    }
   ],
   "source": [
    "response"
   ]
  },
  {
   "cell_type": "code",
   "execution_count": 4,
   "id": "efae161a",
   "metadata": {},
   "outputs": [],
   "source": [
    "response = client.chat.completions.create(\n",
    "    model= model_name,\n",
    "    messages=[{\n",
    "        \"role\": 'user',\n",
    "        \"content\": \"What is capital of India\"\n",
    "    }],\n",
    "    temperature= 0.0,\n",
    "    top_p= 0.8,\n",
    "    max_tokens=40\n",
    ")"
   ]
  },
  {
   "cell_type": "code",
   "execution_count": 6,
   "id": "1218b12f",
   "metadata": {},
   "outputs": [
    {
     "data": {
      "text/plain": [
       "'The capital of India is New Delhi.'"
      ]
     },
     "execution_count": 6,
     "metadata": {},
     "output_type": "execute_result"
    }
   ],
   "source": [
    "response.choices[0].message.content"
   ]
  },
  {
   "cell_type": "code",
   "execution_count": 11,
   "id": "9f3a4cb4",
   "metadata": {},
   "outputs": [],
   "source": [
    "#Prompt Engineering"
   ]
  },
  {
   "cell_type": "code",
   "execution_count": 13,
   "id": "e03bf64b",
   "metadata": {},
   "outputs": [
    {
     "name": "stdout",
     "output_type": "stream",
     "text": [
      "[\n",
      "{\n",
      "    \"country\": \"United Arab Emirates\",\n",
      "    \"capital\": \"Abu Dhabi\"\n",
      "}\n",
      "]\n"
     ]
    }
   ],
   "source": [
    "system_prompt = \"\"\"\n",
    "You are a helpful assistant that answer questions about capitals of countries.\n",
    "\n",
    "Your output should be in a structured json format exactly like the one bellow. You are not allowed to write anything other than the json object:\n",
    "[\n",
    "{\n",
    "    country: the country that you will get the capital of \n",
    "    capital: the capital of the country stated\n",
    "}\n",
    "]\n",
    "\"\"\"\n",
    "\n",
    "messages = [{\"role\": \"system\", \"content\": system_prompt}]\n",
    "messages.append({\n",
    "        \"role\": 'system',\n",
    "        \"content\": \"What is capital of Dubai?\"\n",
    "    })\n",
    "\n",
    "response = get_chatbot_respnse(client,model_name ,messages)\n",
    "print(response)"
   ]
  },
  {
   "cell_type": "code",
   "execution_count": 15,
   "id": "f12ee040",
   "metadata": {},
   "outputs": [
    {
     "data": {
      "text/plain": [
       "[{'country': 'United Arab Emirates', 'capital': 'Abu Dhabi'}]"
      ]
     },
     "execution_count": 15,
     "metadata": {},
     "output_type": "execute_result"
    }
   ],
   "source": [
    "json_response = json.loads(response)\n",
    "json_response"
   ]
  },
  {
   "cell_type": "code",
   "execution_count": 16,
   "id": "79c43deb",
   "metadata": {},
   "outputs": [],
   "source": [
    "#Input Structuring"
   ]
  },
  {
   "cell_type": "code",
   "execution_count": 22,
   "id": "9d107a2b",
   "metadata": {},
   "outputs": [
    {
     "name": "stdout",
     "output_type": "stream",
     "text": [
      "[\n",
      "{\n",
      "    \"country\": \"Italy\",\n",
      "    \"capital\": \"Rome\"\n",
      "},\n",
      "{\n",
      "    \"country\": \"France\",\n",
      "    \"capital\": \"Paris\"\n",
      "},\n",
      "{\n",
      "    \"country\": \"Germany\",\n",
      "    \"capital\": \"Berlin\"\n",
      "}\n",
      "]\n"
     ]
    }
   ],
   "source": [
    "user_prompt = \"\"\"\n",
    "Get me the capitals of the following countries:\n",
    "```\n",
    "1. Italy\n",
    "2. France\n",
    "3. Germany\n",
    "```\n",
    "\"\"\"\n",
    "messages = [{'role':'system','content':system_prompt}]\n",
    "messages.append({'role':'user','content':user_prompt})\n",
    "response = get_chatbot_respnse(client,model_name ,messages)\n",
    "print(response)"
   ]
  },
  {
   "cell_type": "code",
   "execution_count": 23,
   "id": "8819b26c",
   "metadata": {},
   "outputs": [],
   "source": [
    "# 3. Chain of thoughts"
   ]
  },
  {
   "cell_type": "code",
   "execution_count": 24,
   "id": "d12b524d",
   "metadata": {},
   "outputs": [],
   "source": [
    "user_prompt = \"\"\"\n",
    "Calculate the result of this equation: 259/2*8654+91072*33-12971\n",
    "\n",
    "Your output should be in a structured json format exactly like the one bellow. You are not allowed to write anything other than the json object:\n",
    "{\n",
    "    steps: This is where you solve the equation bit by bit following the BEDMAS order of operations. You need to show your work and calculate each step leading to final result. Feel free to write here in free text. \n",
    "    result: The final number resulted from calculating the equation above\n",
    "}\n",
    "\"\"\"\n",
    "messages = [{'role':'user','content':user_prompt}]\n",
    "response = get_chatbot_respnse(client,model_name,messages)"
   ]
  },
  {
   "cell_type": "code",
   "execution_count": 25,
   "id": "111441e2",
   "metadata": {},
   "outputs": [
    {
     "name": "stdout",
     "output_type": "stream",
     "text": [
      "{\n",
      "    \"steps\": \"First, we need to follow the BEDMAS order of operations. \n",
      "    1. Divide 259 by 2: 259/2 = 129.5\n",
      "    2. Multiply 129.5 by 8654: 129.5 * 8654 = 1121011\n",
      "    3. Multiply 91072 by 33: 91072 * 33 = 3005016\n",
      "    4. Add 1121011 and 3005016: 1121011 + 3005016 = 4126027\n",
      "    5. Subtract 12971 from 4126027: 4126027 - 12971 = 4113056\",\n",
      "    \"result\": 4113056\n",
      "}\n"
     ]
    }
   ],
   "source": [
    "print(response)"
   ]
  },
  {
   "cell_type": "markdown",
   "id": "36a0862e",
   "metadata": {},
   "source": [
    "RAG Pipeline to extract the data from using embedings\n"
   ]
  },
  {
   "cell_type": "code",
   "execution_count": 27,
   "id": "357f8dcc",
   "metadata": {},
   "outputs": [],
   "source": [
    "iphone_16 = \"\"\"\n",
    "The iPhone 16 introduces several exciting updates, making it one of Apple's most advanced smartphones to date. It features a larger 6.1-inch display for the base model and a 6.7-inch screen for the iPhone 16 Plus, with thinner bezels and a more durable Ceramic Shield. The iPhone 16 Pro and Pro Max boast even larger displays, measuring 6.3 and 6.9 inches respectively, offering the thinnest bezels seen on any Apple product so far.\n",
    "\n",
    "Powered by the new A18 chip (A18 Pro for the Pro models), these phones deliver significant performance improvements, with enhanced neural engine capabilities, faster GPU for gaming, and machine learning tasks. The camera systems are also upgraded, with the base iPhone 16 sporting a dual-camera setup with a 48MP main sensor. The Pro models offer a 48MP Ultra Wide and 5x telephoto camera, enhanced by Apple’s \"Camera Control\" button for more flexible photography options.\n",
    "\n",
    "Apple also introduced advanced audio features like \"Audio Mix,\" which uses machine learning to separate background sounds from speech, allowing for more refined audio capture during video recording. Battery life has been extended, especially in the iPhone 16 Pro Max, which is claimed to have the longest-lasting battery of any iPhone \n",
    "9TO5MAC\n",
    "\n",
    "APPLEMAGAZINE\n",
    ".\n",
    "\n",
    "Additionally, Apple has switched to USB-C for faster charging and data transfer, and the Pro models now support up to 2x faster video encoding. The starting prices remain consistent with previous generations, with the iPhone 16 starting at $799, while the Pro models start at $999\n",
    "\"\"\"\n",
    "\n",
    "samsung_s23 = \"\"\"\n",
    "The Samsung Galaxy S23 brings some incremental but notable upgrades to its predecessor, the Galaxy S22. It features the Snapdragon 8 Gen 2 processor, a powerful chip optimized for the S23 series, delivering enhanced performance, especially for gaming and multitasking. This chip ensures top-tier speed and efficiency across all models, from the base S23 to the larger S23+ and S23 Ultra​\n",
    "STUFF\n",
    "\n",
    "TECHRADAR\n",
    ".\n",
    "\n",
    "In terms of design, the S23's camera module has been streamlined by removing the raised metal contour around the cameras, creating a cleaner, sleeker look. It also sports the same 6.1-inch 120Hz AMOLED display, protected by tougher Gorilla Glass Victus 2, making it more resistant to scratches and drops​\n",
    "TECHRADAR\n",
    ".\n",
    "\n",
    "The S23 Ultra stands out with its 200MP main camera, offering impressive photo clarity, especially in low-light conditions. The selfie camera across the series has been updated to a 12MP sensor, resulting in sharper selfies. The Ultra model also includes productivity tools such as the S-Pen, which remains an essential feature for note-taking and creative tasks​\n",
    "STUFF\n",
    "\n",
    "TECHRADAR\n",
    ".\n",
    "\n",
    "Battery life is solid, with the S23 Ultra featuring a 5000mAh battery that lasts comfortably through a day of heavy use. However, charging speeds still lag behind some competitors, with 45W wired charging, which is slower than other brands offering up to 125W charging​\n",
    "STUFF\n",
    ".\n",
    "\n",
    "Overall, the Galaxy S23 series enhances performance, durability, and camera quality, making it a strong contender for users seeking a high-performance flagship.\n",
    "\"\"\"\n",
    "\n",
    "data = [iphone_16, samsung_s23]"
   ]
  },
  {
   "cell_type": "code",
   "execution_count": 28,
   "id": "deb9f83d",
   "metadata": {},
   "outputs": [],
   "source": [
    "user_prompt = \"\"\"What is new in iphone 16?\"\"\""
   ]
  },
  {
   "cell_type": "code",
   "execution_count": 33,
   "id": "cca39cc3",
   "metadata": {},
   "outputs": [],
   "source": [
    "embedding_client = OpenAI(\n",
    "    api_key=os.getenv(\"RUNPOD_TOKEN\"),\n",
    "    base_url=os.getenv(\"RUNPOD_EMBEDIING_URL\")\n",
    ")"
   ]
  },
  {
   "cell_type": "code",
   "execution_count": 34,
   "id": "c0eb83f8",
   "metadata": {},
   "outputs": [],
   "source": [
    "def get_embedding(embedding_client,model_name,text_input):\n",
    "    output = embedding_client.embeddings.create(input = text_input,model=model_name)\n",
    "    \n",
    "    embedings = []\n",
    "    for embedding_object in output.data:\n",
    "        embedings.append(embedding_object.embedding)\n",
    "\n",
    "    return embedings\n"
   ]
  },
  {
   "cell_type": "code",
   "execution_count": 35,
   "id": "33c81d9b",
   "metadata": {},
   "outputs": [],
   "source": [
    "user_prompt_embeddings = get_embedding(embedding_client, model_name, user_prompt)"
   ]
  },
  {
   "cell_type": "code",
   "execution_count": 38,
   "id": "d9f73999",
   "metadata": {},
   "outputs": [
    {
     "data": {
      "text/plain": [
       "[[-0.05301911011338234,\n",
       "  -0.030246518552303314,\n",
       "  0.059577859938144684,\n",
       "  -0.0034433440305292606,\n",
       "  -0.032519202679395676,\n",
       "  -0.035081688314676285,\n",
       "  0.012232832610607147,\n",
       "  0.026341773569583893,\n",
       "  -0.011569331400096416,\n",
       "  0.038742389529943466,\n",
       "  0.06098112836480141,\n",
       "  0.011668475344777107,\n",
       "  -0.0760204941034317,\n",
       "  -0.0016835398273542523,\n",
       "  0.09127340465784073,\n",
       "  0.023260686546564102,\n",
       "  0.11671525985002518,\n",
       "  -0.14423149824142456,\n",
       "  -0.08175559341907501,\n",
       "  0.016503646969795227,\n",
       "  -0.012614155188202858,\n",
       "  -0.013575089164078236,\n",
       "  -0.0364239476621151,\n",
       "  -0.029788929969072342,\n",
       "  0.034136008471250534,\n",
       "  0.06308603286743164,\n",
       "  0.0004509141144808382,\n",
       "  -0.01740356907248497,\n",
       "  -0.009540694765746593,\n",
       "  -0.14520768821239471,\n",
       "  -0.006566377356648445,\n",
       "  -0.00441190367564559,\n",
       "  0.010738047771155834,\n",
       "  0.02707391232252121,\n",
       "  0.006432914175093174,\n",
       "  -0.0383153073489666,\n",
       "  -0.005269879940897226,\n",
       "  0.03996261954307556,\n",
       "  -0.012293844483792782,\n",
       "  0.0653434619307518,\n",
       "  0.02507578209042549,\n",
       "  0.09151745587587357,\n",
       "  -0.09719153493642807,\n",
       "  -0.01722053438425064,\n",
       "  0.04340977966785431,\n",
       "  0.010150810703635216,\n",
       "  0.02399282529950142,\n",
       "  -0.024602942168712616,\n",
       "  0.016854465007781982,\n",
       "  -0.04688744246959686,\n",
       "  0.04951094090938568,\n",
       "  -0.0072947037406265736,\n",
       "  0.009517814964056015,\n",
       "  -0.054696932435035706,\n",
       "  -0.0021735394839197397,\n",
       "  -0.01740356907248497,\n",
       "  0.0029075858183205128,\n",
       "  0.03312931954860687,\n",
       "  0.06400120258331299,\n",
       "  0.05243949964642525,\n",
       "  0.08852788060903549,\n",
       "  -0.01873057149350643,\n",
       "  -0.15228503942489624,\n",
       "  0.09475106745958328,\n",
       "  0.007969644851982594,\n",
       "  0.03438005596399307,\n",
       "  -0.047711096704006195,\n",
       "  -0.10945487022399902,\n",
       "  0.022772593423724174,\n",
       "  -0.06699077785015106,\n",
       "  -0.007020151242613792,\n",
       "  0.03116169199347496,\n",
       "  0.04755856841802597,\n",
       "  0.060401517897844315,\n",
       "  -0.014177578501403332,\n",
       "  -0.00914411898702383,\n",
       "  0.06564851850271225,\n",
       "  0.02808060497045517,\n",
       "  -0.044691022485494614,\n",
       "  0.0345630906522274,\n",
       "  0.06424525380134583,\n",
       "  0.019676251336932182,\n",
       "  0.021781153976917267,\n",
       "  0.021262554451823235,\n",
       "  0.026997648179531097,\n",
       "  -0.04045071452856064,\n",
       "  -0.028034845367074013,\n",
       "  0.021842164918780327,\n",
       "  0.00708116265013814,\n",
       "  -0.08395200967788696,\n",
       "  0.005567311774939299,\n",
       "  -0.030856633558869362,\n",
       "  0.059913426637649536,\n",
       "  0.04002363234758377,\n",
       "  -0.116837278008461,\n",
       "  0.055001989006996155,\n",
       "  0.025594381615519524,\n",
       "  -0.061042141169309616,\n",
       "  -0.05118876323103905,\n",
       "  0.30383795499801636,\n",
       "  -0.01847127266228199,\n",
       "  0.02751624770462513,\n",
       "  0.0471009835600853,\n",
       "  -0.03172605112195015,\n",
       "  0.027623018249869347,\n",
       "  -0.053385179489851,\n",
       "  -0.022513292729854584,\n",
       "  -0.04234207421541214,\n",
       "  -0.042067524045705795,\n",
       "  0.05765599384903908,\n",
       "  -0.009212756529450417,\n",
       "  -0.03544776141643524,\n",
       "  0.05765599384903908,\n",
       "  -0.0019456992158666253,\n",
       "  -0.010173690505325794,\n",
       "  -0.037918731570243835,\n",
       "  0.052500512450933456,\n",
       "  0.0471314862370491,\n",
       "  0.038742389529943466,\n",
       "  0.05283607542514801,\n",
       "  0.015847772359848022,\n",
       "  0.008190811611711979,\n",
       "  -0.004518674220889807,\n",
       "  0.014909718185663223,\n",
       "  -0.006966765969991684,\n",
       "  -0.019249171018600464,\n",
       "  -0.002392800059169531,\n",
       "  0.04063374921679497,\n",
       "  -0.020835474133491516,\n",
       "  0.021384578198194504,\n",
       "  0.011454934254288673,\n",
       "  0.009388165548443794,\n",
       "  -0.08248773217201233,\n",
       "  0.05573412775993347,\n",
       "  0.04472152888774872,\n",
       "  -0.023474225774407387,\n",
       "  0.003163072047755122,\n",
       "  -0.015001235529780388,\n",
       "  0.015863025560975075,\n",
       "  0.0002905202563852072,\n",
       "  -0.07120057940483093,\n",
       "  -0.02878223918378353,\n",
       "  0.08803978562355042,\n",
       "  -0.08187761157751083,\n",
       "  0.009563573636114597,\n",
       "  0.039230480790138245,\n",
       "  -0.002082022139802575,\n",
       "  0.045331645756959915,\n",
       "  -0.0009509235387668014,\n",
       "  0.037095073610544205,\n",
       "  -0.03303780034184456,\n",
       "  0.08956508338451385,\n",
       "  0.03193959221243858,\n",
       "  0.013117501512169838,\n",
       "  0.021384578198194504,\n",
       "  0.00992964394390583,\n",
       "  -0.021277807652950287,\n",
       "  -0.03544776141643524,\n",
       "  -0.021125279366970062,\n",
       "  0.08437909185886383,\n",
       "  -0.007893380708992481,\n",
       "  0.010562639683485031,\n",
       "  -0.05353770777583122,\n",
       "  -0.015786761417984962,\n",
       "  -0.007832368835806847,\n",
       "  -0.15985047817230225,\n",
       "  0.005788479000329971,\n",
       "  0.05259202793240547,\n",
       "  -0.0408167839050293,\n",
       "  -0.005712214391678572,\n",
       "  -0.01435298752039671,\n",
       "  -0.0058304243721067905,\n",
       "  0.020835474133491516,\n",
       "  -0.02878223918378353,\n",
       "  0.07004135847091675,\n",
       "  -0.027104418724775314,\n",
       "  0.023886054754257202,\n",
       "  0.09450702369213104,\n",
       "  -0.004835172090679407,\n",
       "  -0.0004759384028147906,\n",
       "  -0.023596249520778656,\n",
       "  -0.035020679235458374,\n",
       "  -0.10914981365203857,\n",
       "  0.05786953493952751,\n",
       "  0.06320805102586746,\n",
       "  -0.028431421145796776,\n",
       "  0.01959998719394207,\n",
       "  -0.013521703891456127,\n",
       "  0.0854772999882698,\n",
       "  -0.014375866390764713,\n",
       "  0.020515162497758865,\n",
       "  0.0483822263777256,\n",
       "  -0.07449520379304886,\n",
       "  0.0690651684999466,\n",
       "  -0.04008464515209198,\n",
       "  -0.012202327139675617,\n",
       "  0.007641707081347704,\n",
       "  0.042189545929431915,\n",
       "  0.00480466615408659,\n",
       "  -0.05552058666944504,\n",
       "  0.009799993596971035,\n",
       "  -0.006326144095510244,\n",
       "  0.024908000603318214,\n",
       "  0.03617990016937256,\n",
       "  0.06082860007882118,\n",
       "  -0.005022020079195499,\n",
       "  0.0018703879322856665,\n",
       "  -0.05332417041063309,\n",
       "  0.03425803408026695,\n",
       "  0.014459757134318352,\n",
       "  -0.0031916711013764143,\n",
       "  0.017357809469103813,\n",
       "  0.11982685327529907,\n",
       "  -0.014619912952184677,\n",
       "  0.004938129335641861,\n",
       "  -0.07004135847091675,\n",
       "  -0.035783324390649796,\n",
       "  0.042311567813158035,\n",
       "  -0.04685693606734276,\n",
       "  -0.03965756297111511,\n",
       "  -0.005147856660187244,\n",
       "  0.059333816170692444,\n",
       "  0.02946862019598484,\n",
       "  -0.2633262276649475,\n",
       "  0.04170145094394684,\n",
       "  -0.0015977422008290887,\n",
       "  -0.0754103809595108,\n",
       "  -0.014787695370614529,\n",
       "  -0.028248386457562447,\n",
       "  -0.00032912916503846645,\n",
       "  -0.04737553372979164,\n",
       "  0.056771326810121536,\n",
       "  0.037735696882009506,\n",
       "  -0.01722053438425064,\n",
       "  0.016000300645828247,\n",
       "  0.06043202430009842,\n",
       "  0.02971266582608223,\n",
       "  0.06082860007882118,\n",
       "  0.01653415337204933,\n",
       "  0.023092903196811676,\n",
       "  -0.05558159947395325,\n",
       "  0.037918731570243835,\n",
       "  0.014673298224806786,\n",
       "  -0.036912038922309875,\n",
       "  0.013170886784791946,\n",
       "  0.031878579407930374,\n",
       "  -0.012736178934574127,\n",
       "  -0.0060477782972157,\n",
       "  -0.0954832062125206,\n",
       "  0.051371797919273376,\n",
       "  0.002699764911085367,\n",
       "  0.008724663406610489,\n",
       "  0.010547386482357979,\n",
       "  0.042067524045705795,\n",
       "  0.05314113572239876,\n",
       "  -0.03825429454445839,\n",
       "  -0.11512895673513412,\n",
       "  -0.008038283325731754,\n",
       "  0.031237956136465073,\n",
       "  0.03178706020116806,\n",
       "  0.06961427628993988,\n",
       "  -0.07901006937026978,\n",
       "  -0.09889986366033554,\n",
       "  0.0065015521831810474,\n",
       "  0.027363717555999756,\n",
       "  0.04069476202130318,\n",
       "  -0.05829661712050438,\n",
       "  0.025182552635669708,\n",
       "  0.016290105879306793,\n",
       "  -0.01966099999845028,\n",
       "  0.04057273641228676,\n",
       "  -0.044507987797260284,\n",
       "  -0.02882799692451954,\n",
       "  0.04536215215921402,\n",
       "  0.0010124117834493518,\n",
       "  0.07345800846815109,\n",
       "  0.025609632954001427,\n",
       "  0.04917537793517113,\n",
       "  -0.02827889285981655,\n",
       "  -0.05942533165216446,\n",
       "  0.01619858853518963,\n",
       "  0.007885754108428955,\n",
       "  -0.011012599803507328,\n",
       "  -0.048412732779979706,\n",
       "  0.010539759881794453,\n",
       "  -0.06192680820822716,\n",
       "  -0.08120648562908173,\n",
       "  0.01690022274851799,\n",
       "  -1.0128884241566993e-05,\n",
       "  -0.027684029191732407,\n",
       "  -0.13532380759716034,\n",
       "  -0.053690239787101746,\n",
       "  -0.11396973580121994,\n",
       "  0.0022078584879636765,\n",
       "  0.004995327442884445,\n",
       "  -0.02287936396896839,\n",
       "  0.02310815639793873,\n",
       "  0.02368776686489582,\n",
       "  -0.02506052888929844,\n",
       "  0.08035232126712799,\n",
       "  0.024862240999937057,\n",
       "  0.034959666430950165,\n",
       "  -0.0326717309653759,\n",
       "  -0.013003104366362095,\n",
       "  0.1062212586402893,\n",
       "  0.0370645672082901,\n",
       "  -0.011470187455415726,\n",
       "  -0.005506299901753664,\n",
       "  0.03953554108738899,\n",
       "  0.06085910648107529,\n",
       "  -0.030109241604804993,\n",
       "  0.01677819900214672,\n",
       "  -0.03416651487350464,\n",
       "  -0.006288011558353901,\n",
       "  -0.04121335968375206,\n",
       "  0.017815398052334785,\n",
       "  -0.07748477905988693,\n",
       "  0.06436727195978165,\n",
       "  -0.012797190807759762,\n",
       "  -0.1702224612236023,\n",
       "  0.0006358556565828621,\n",
       "  0.018196720629930496,\n",
       "  0.013590341433882713,\n",
       "  -0.0565577857196331,\n",
       "  -0.02173539437353611,\n",
       "  0.026982394978404045,\n",
       "  -0.014429251663386822,\n",
       "  -0.03428854048252106,\n",
       "  0.03694254532456398,\n",
       "  -0.046704407781362534,\n",
       "  -0.03441056236624718,\n",
       "  0.00391237111762166,\n",
       "  -0.01865430735051632,\n",
       "  -0.01555034052580595,\n",
       "  0.0314209908246994,\n",
       "  0.09157846122980118,\n",
       "  0.015153764747083187,\n",
       "  0.009052601642906666,\n",
       "  0.012545517645776272,\n",
       "  -0.030673598870635033,\n",
       "  -0.03669849783182144,\n",
       "  0.07571543753147125,\n",
       "  -0.06467233598232269,\n",
       "  -0.026967141777276993,\n",
       "  0.02896527387201786,\n",
       "  0.023321697488427162,\n",
       "  0.018700066953897476,\n",
       "  -0.006288011558353901,\n",
       "  0.033708930015563965,\n",
       "  0.02814161591231823,\n",
       "  0.012553144246339798,\n",
       "  0.052683547139167786,\n",
       "  0.03035328909754753,\n",
       "  -0.017449326813220978,\n",
       "  -0.013407306745648384,\n",
       "  -0.04804666340351105,\n",
       "  -0.036851026117801666,\n",
       "  -0.033891964703798294,\n",
       "  0.026479048654437065,\n",
       "  -0.057778019458055496,\n",
       "  0.003544394625350833,\n",
       "  -0.14093688130378723,\n",
       "  0.024953758344054222,\n",
       "  0.06461132317781448,\n",
       "  -0.0596998855471611,\n",
       "  -0.04987701028585434,\n",
       "  0.026235003024339676,\n",
       "  -0.04411141201853752,\n",
       "  -0.009319527074694633,\n",
       "  -0.017052751034498215,\n",
       "  -0.03617990016937256,\n",
       "  0.003834199858829379,\n",
       "  0.032763246446847916,\n",
       "  0.048839814960956573,\n",
       "  -0.0015062247402966022,\n",
       "  -0.00601345906034112,\n",
       "  -0.037857718765735626,\n",
       "  0.029666908085346222,\n",
       "  0.04075577110052109,\n",
       "  0.029575390741229057,\n",
       "  0.003380425972864032,\n",
       "  -0.06125568225979805,\n",
       "  0.020149093121290207,\n",
       "  -0.009449176490306854]]"
      ]
     },
     "execution_count": 38,
     "metadata": {},
     "output_type": "execute_result"
    }
   ],
   "source": [
    "user_prompt_embeddings"
   ]
  },
  {
   "cell_type": "code",
   "execution_count": 42,
   "id": "5313b448",
   "metadata": {},
   "outputs": [],
   "source": [
    "user_prompt_embeddingss = user_prompt_embeddings[0]"
   ]
  },
  {
   "cell_type": "code",
   "execution_count": null,
   "id": "be0a78da",
   "metadata": {},
   "outputs": [],
   "source": [
    "data_embeddings = [get_embedding(embedding_client , model_name, x)[0] for x in data]"
   ]
  },
  {
   "cell_type": "code",
   "execution_count": 44,
   "id": "3daa6365",
   "metadata": {},
   "outputs": [],
   "source": [
    "data_similarity_score = cosine_similarity([user_prompt_embeddingss], data_embeddings)"
   ]
  },
  {
   "cell_type": "code",
   "execution_count": 45,
   "id": "80de0d45",
   "metadata": {},
   "outputs": [
    {
     "data": {
      "text/plain": [
       "array([[0.74482716, 0.52195224]])"
      ]
     },
     "execution_count": 45,
     "metadata": {},
     "output_type": "execute_result"
    }
   ],
   "source": [
    "data_similarity_score"
   ]
  },
  {
   "cell_type": "code",
   "execution_count": 46,
   "id": "f32efc24",
   "metadata": {},
   "outputs": [
    {
     "data": {
      "text/plain": [
       "np.int64(0)"
      ]
     },
     "execution_count": 46,
     "metadata": {},
     "output_type": "execute_result"
    }
   ],
   "source": [
    "closest_entry_index=data_similarity_score.argmax()\n",
    "closest_entry_index"
   ]
  },
  {
   "cell_type": "code",
   "execution_count": 47,
   "id": "2cf6b7a8",
   "metadata": {},
   "outputs": [
    {
     "data": {
      "text/plain": [
       "'\\nThe iPhone 16 introduces several exciting updates, making it one of Apple\\'s most advanced smartphones to date. It features a larger 6.1-inch display for the base model and a 6.7-inch screen for the iPhone 16 Plus, with thinner bezels and a more durable Ceramic Shield. The iPhone 16 Pro and Pro Max boast even larger displays, measuring 6.3 and 6.9 inches respectively, offering the thinnest bezels seen on any Apple product so far.\\n\\nPowered by the new A18 chip (A18 Pro for the Pro models), these phones deliver significant performance improvements, with enhanced neural engine capabilities, faster GPU for gaming, and machine learning tasks. The camera systems are also upgraded, with the base iPhone 16 sporting a dual-camera setup with a 48MP main sensor. The Pro models offer a 48MP Ultra Wide and 5x telephoto camera, enhanced by Apple’s \"Camera Control\" button for more flexible photography options.\\n\\nApple also introduced advanced audio features like \"Audio Mix,\" which uses machine learning to separate background sounds from speech, allowing for more refined audio capture during video recording. Battery life has been extended, especially in the iPhone 16 Pro Max, which is claimed to have the longest-lasting battery of any iPhone \\n9TO5MAC\\n\\nAPPLEMAGAZINE\\n.\\n\\nAdditionally, Apple has switched to USB-C for faster charging and data transfer, and the Pro models now support up to 2x faster video encoding. The starting prices remain consistent with previous generations, with the iPhone 16 starting at $799, while the Pro models start at $999\\n'"
      ]
     },
     "execution_count": 47,
     "metadata": {},
     "output_type": "execute_result"
    }
   ],
   "source": [
    "data[closest_entry_index]"
   ]
  },
  {
   "cell_type": "code",
   "execution_count": null,
   "id": "8097719a",
   "metadata": {},
   "outputs": [],
   "source": []
  }
 ],
 "metadata": {
  "kernelspec": {
   "display_name": "venv",
   "language": "python",
   "name": "python3"
  },
  "language_info": {
   "codemirror_mode": {
    "name": "ipython",
    "version": 3
   },
   "file_extension": ".py",
   "mimetype": "text/x-python",
   "name": "python",
   "nbconvert_exporter": "python",
   "pygments_lexer": "ipython3",
   "version": "3.11.4"
  }
 },
 "nbformat": 4,
 "nbformat_minor": 5
}
