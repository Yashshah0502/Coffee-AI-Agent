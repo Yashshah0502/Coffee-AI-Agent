{
 "cells": [
  {
   "cell_type": "code",
   "execution_count": 1,
   "id": "c725ce3e",
   "metadata": {},
   "outputs": [
    {
     "data": {
      "text/plain": [
       "True"
      ]
     },
     "execution_count": 1,
     "metadata": {},
     "output_type": "execute_result"
    }
   ],
   "source": [
    "from openai import OpenAI\n",
    "import os\n",
    "from dotenv import load_dotenv\n",
    "load_dotenv()"
   ]
  },
  {
   "cell_type": "code",
   "execution_count": 7,
   "id": "ef4656b6",
   "metadata": {},
   "outputs": [],
   "source": [
    "def get_chatbot_respnse(client, model_name, messages,temprature =0 ):\n",
    "    input_messages = []\n",
    "    for message in messages:\n",
    "        input_messages.append({\"role\": message['role'],\"content\": message['content']})\n",
    "    \n",
    "    response = client.chat.completions.create(\n",
    "        model= model_name,\n",
    "        messages=input_messages,\n",
    "        temperature= temprature,\n",
    "        top_p= 0.8,\n",
    "        max_tokens=40\n",
    "    ).choices[0].message.content\n",
    "\n",
    "    return response"
   ]
  },
  {
   "cell_type": "code",
   "execution_count": 3,
   "id": "49e1e5f2",
   "metadata": {},
   "outputs": [],
   "source": [
    "client = OpenAI(\n",
    "    api_key=os.getenv('RUNPOD_TOKEN'),\n",
    "    base_url=os.getenv('RUNPOD_CHATBOT_URL')\n",
    ")\n",
    "model_name = os.getenv('MODEL_NAME')"
   ]
  },
  {
   "cell_type": "code",
   "execution_count": 8,
   "id": "8cff61d1",
   "metadata": {},
   "outputs": [],
   "source": [
    "messages = [{\n",
    "        \"role\": 'system',\n",
    "        \"content\": \"What is capital of United States\"\n",
    "    }]\n",
    "response = get_chatbot_respnse(client, model_name, messages)"
   ]
  },
  {
   "cell_type": "code",
   "execution_count": 9,
   "id": "69a5fc59",
   "metadata": {},
   "outputs": [
    {
     "data": {
      "text/plain": [
       "'The capital of the United States is Washington, D.C. (short for District of Columbia).'"
      ]
     },
     "execution_count": 9,
     "metadata": {},
     "output_type": "execute_result"
    }
   ],
   "source": [
    "response"
   ]
  },
  {
   "cell_type": "code",
   "execution_count": 4,
   "id": "efae161a",
   "metadata": {},
   "outputs": [],
   "source": [
    "response = client.chat.completions.create(\n",
    "    model= model_name,\n",
    "    messages=[{\n",
    "        \"role\": 'user',\n",
    "        \"content\": \"What is capital of India\"\n",
    "    }],\n",
    "    temperature= 0.0,\n",
    "    top_p= 0.8,\n",
    "    max_tokens=40\n",
    ")"
   ]
  },
  {
   "cell_type": "code",
   "execution_count": 6,
   "id": "1218b12f",
   "metadata": {},
   "outputs": [
    {
     "data": {
      "text/plain": [
       "'The capital of India is New Delhi.'"
      ]
     },
     "execution_count": 6,
     "metadata": {},
     "output_type": "execute_result"
    }
   ],
   "source": [
    "response.choices[0].message.content"
   ]
  },
  {
   "cell_type": "code",
   "execution_count": null,
   "id": "9f3a4cb4",
   "metadata": {},
   "outputs": [],
   "source": []
  }
 ],
 "metadata": {
  "kernelspec": {
   "display_name": "venv",
   "language": "python",
   "name": "python3"
  },
  "language_info": {
   "codemirror_mode": {
    "name": "ipython",
    "version": 3
   },
   "file_extension": ".py",
   "mimetype": "text/x-python",
   "name": "python",
   "nbconvert_exporter": "python",
   "pygments_lexer": "ipython3",
   "version": "3.11.4"
  }
 },
 "nbformat": 4,
 "nbformat_minor": 5
}
